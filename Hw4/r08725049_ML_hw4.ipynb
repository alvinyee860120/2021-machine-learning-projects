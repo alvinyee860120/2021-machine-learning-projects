{
  "nbformat": 4,
  "nbformat_minor": 0,
  "metadata": {
    "accelerator": "GPU",
    "colab": {
      "name": "r08725049_ML_hw4.ipynb",
      "provenance": [],
      "collapsed_sections": []
    },
    "kernelspec": {
      "display_name": "Python 3",
      "name": "python3"
    }
  },
  "cells": [
    {
      "cell_type": "markdown",
      "metadata": {
        "id": "zC5KwRyl6Flp"
      },
      "source": [
        "# Task description\n",
        "- Classify the speakers of given features.\n",
        "- Main goal: Learn how to use transformer.\n",
        "- Baselines:\n",
        "  - Easy: Run sample code and know how to use transformer.\n",
        "  - Medium: Know how to adjust parameters of transformer.\n",
        "  - Hard: Construct [conformer](https://arxiv.org/abs/2005.08100) which is a variety of transformer. \n",
        "\n",
        "- Other links\n",
        "  - Kaggle: [link](https://www.kaggle.com/t/859c9ca9ede14fdea841be627c412322)\n",
        "  - Slide: [link](https://speech.ee.ntu.edu.tw/~hylee/ml/ml2021-course-data/hw/HW04/HW04.pdf)\n",
        "  - Data: [link](https://drive.google.com/file/d/1T0RPnu-Sg5eIPwQPfYysipfcz81MnsYe/view?usp=sharing)\n",
        "  - Video (Chinese): [link](https://www.youtube.com/watch?v=EPerg2UnGaI)\n",
        "  - Video (English): [link](https://www.youtube.com/watch?v=Gpz6AUvCak0)\n",
        "  - Solution for downloading dataset fail.: [link](https://drive.google.com/drive/folders/13T0Pa_WGgQxNkqZk781qhc5T9-zfh19e?usp=sharing)"
      ]
    },
    {
      "cell_type": "markdown",
      "metadata": {
        "id": "TPDoreyypeJE"
      },
      "source": [
        "# Download dataset\n",
        "- **If all download links fail**\n",
        "- **Please follow [here](https://drive.google.com/drive/folders/13T0Pa_WGgQxNkqZk781qhc5T9-zfh19e?usp=sharing)**\n",
        "- **Data is [here](https://drive.google.com/file/d/1T0RPnu-Sg5eIPwQPfYysipfcz81MnsYe/view?usp=sharing)**"
      ]
    },
    {
      "cell_type": "code",
      "metadata": {
        "id": "BPm7-WVmTcr1"
      },
      "source": [
        "import torch\n",
        "try:\n",
        "    # Get GPU name, check if it's K80\n",
        "    GPU_name = torch.cuda.get_device_name()\n",
        "    if GPU_name[-3:] == \"K80\":\n",
        "        print(\"Get K80! :'( RESTART!\")\n",
        "        exit()  # Restart the session\n",
        "    else:\n",
        "        print(\"Your GPU is {}!\".format(GPU_name))\n",
        "        print(\"Great! Keep going~\")\n",
        "except RuntimeError as e:\n",
        "    if e.args == (\"No CUDA GPUs are available\",):\n",
        "        print(\"You are training with CPU! \"\n",
        "              \"Please restart!\")\n",
        "        exit()  # Restart the session\n",
        "    else:\n",
        "        print(\"What's wrong here?\")\n",
        "        print(\"Error message: \\n\", e)"
      ],
      "execution_count": null,
      "outputs": []
    },
    {
      "cell_type": "code",
      "metadata": {
        "id": "QvpaILXnJIcw"
      },
      "source": [
        "\"\"\"\n",
        "    For Google drive, You can download data form any link below.\n",
        "    If a link fails, please use another one.\n",
        "\"\"\"\n",
        "\"\"\" Download link 1 of Google drive \"\"\"\n",
        "# !gdown --id '1T0RPnu-Sg5eIPwQPfYysipfcz81MnsYe' --output Dataset.zip\n",
        "\"\"\" Download link 2 of Google drive \"\"\"\n",
        "# !gdown --id '1CtHZhJ-mTpNsO-MqvAPIi4Yrt3oSBXYV' --output Dataset.zip\n",
        "\"\"\" Download link 3 of Google drive \"\"\"\n",
        "# !gdown --id '14hmoMgB1fe6v50biIceKyndyeYABGrRq' --output Dataset.zip\n",
        "\"\"\" Download link 4 of Google drive \"\"\"\n",
        "# !gdown --id '1e9x-Pjl3n7-9tK9LS_WjiMo2lru4UBH9' --output Dataset.zip\n",
        "\"\"\" Download link 5 of Google drive \"\"\"\n",
        "# !gdown --id '10TC0g46bcAz_jkiMl65zNmwttT4RiRgY' --output Dataset.zip\n",
        "\"\"\" Download link 6 of Google drive \"\"\"\n",
        "# !gdown --id '1MUGBvG_JjqO0C2JYHuyV3B0lvaf1kWIm' --output Dataset.zip\n",
        "\"\"\" Download link 7 of Google drive \"\"\"\n",
        "#!gdown --id '18M91P5DHwILNyOlssZ57AiPOR0OwutOM' --output Dataset.zip\n",
        "\"\"\" For all download links fail, Please paste link into 'Paste link here' \"\"\"\n",
        "\n",
        "# download from my own google drive account\n",
        "!gdown --id '1cWzOVtlcDLyneGWStZX21ekWCs9632MK' --output Dataset.zip\n",
        "\n",
        "# \"\"\" For Google drive, you can unzip the data by the command below. \"\"\"\n",
        "!unzip Dataset.zip\n",
        "\n",
        "\"\"\"\n",
        "    For Dropbox, we split dataset into five files. \n",
        "    Please download all of them.\n",
        "\"\"\"\n",
        "# If Dropbox is not work. Please use google drive.\n",
        "# !wget https://www.dropbox.com/s/vw324newiku0sz0/Dataset.tar.gz.aa?dl=0\n",
        "# !wget https://www.dropbox.com/s/z840g69e7lnkayo/Dataset.tar.gz.ab?dl=0\n",
        "# !wget https://www.dropbox.com/s/hl081e1ggonio81/Dataset.tar.gz.ac?dl=0\n",
        "# !wget https://www.dropbox.com/s/fh3zd8ow668c4th/Dataset.tar.gz.ad?dl=0\n",
        "# !wget https://www.dropbox.com/s/ydzygoy2pv6gw9d/Dataset.tar.gz.ae?dl=0\n",
        "# !cat Dataset.tar.gz.* | tar zxvf -\n",
        "\n",
        "\"\"\"\n",
        "    For Onedrive, we split dataset into five files. \n",
        "    Please download all of them.\n",
        "\"\"\"\n",
        "# !wget --no-check-certificate \"https://onedrive.live.com/download?cid=10C95EE5FD151BFB&resid=10C95EE5FD151BFB%21106&authkey=ACB6opQR3CG9kmc\" -O Dataset.tar.gz.aa\n",
        "# !wget --no-check-certificate \"https://onedrive.live.com/download?cid=93DDDDD552E145DB&resid=93DDDDD552E145DB%21106&authkey=AP6EepjxSdvyV6Y\" -O Dataset.tar.gz.ab\n",
        "# !wget --no-check-certificate \"https://onedrive.live.com/download?cid=644545816461BCCC&resid=644545816461BCCC%21106&authkey=ALiefB0kI7Epb0Q\" -O Dataset.tar.gz.ac\n",
        "# !wget --no-check-certificate \"https://onedrive.live.com/download?cid=77CEBB3C3C512821&resid=77CEBB3C3C512821%21106&authkey=AAXCx4TTDYC0yjM\" -O Dataset.tar.gz.ad\n",
        "# !wget --no-check-certificate \"https://onedrive.live.com/download?cid=383D0E0146A11B02&resid=383D0E0146A11B02%21106&authkey=ALwVc4StVbig6QI\" -O Dataset.tar.gz.ae\n",
        "# !cat Dataset.tar.gz.* | tar zxvf -"
      ],
      "execution_count": null,
      "outputs": []
    },
    {
      "cell_type": "markdown",
      "metadata": {
        "id": "v1gYr_aoNDue"
      },
      "source": [
        "# Data"
      ]
    },
    {
      "cell_type": "markdown",
      "metadata": {
        "id": "Mz_NpuAipk3h"
      },
      "source": [
        "## Dataset\n",
        "- Original dataset is [Voxceleb1](https://www.robots.ox.ac.uk/~vgg/data/voxceleb/).\n",
        "- The [license](https://creativecommons.org/licenses/by/4.0/) and [complete version](https://www.robots.ox.ac.uk/~vgg/data/voxceleb/files/license.txt) of Voxceleb1.\n",
        "- We randomly select 600 speakers from Voxceleb1.\n",
        "- Then preprocess the raw waveforms into mel-spectrograms.\n",
        "\n",
        "- Args:\n",
        "  - data_dir: The path to the data directory.\n",
        "  - metadata_path: The path to the metadata.\n",
        "  - segment_len: The length of audio segment for training. \n",
        "- The architecture of data directory \\\\\n",
        "  - data directory \\\\\n",
        "  |---- metadata.json \\\\\n",
        "  |---- testdata.json \\\\\n",
        "  |---- mapping.json \\\\\n",
        "  |---- uttr-{random string}.pt \\\\\n",
        "\n",
        "- The information in metadata\n",
        "  - \"n_mels\": The dimention of mel-spectrogram.\n",
        "  - \"speakers\": A dictionary. \n",
        "    - Key: speaker ids.\n",
        "    - value: \"feature_path\" and \"mel_len\"\n",
        "\n",
        "\n",
        "For efficiency, we segment the mel-spectrograms into segments in the traing step."
      ]
    },
    {
      "cell_type": "code",
      "metadata": {
        "id": "cd7hoGhYtbXQ"
      },
      "source": [
        "import os\n",
        "import json\n",
        "import torch\n",
        "import random\n",
        "from pathlib import Path\n",
        "from torch.utils.data import Dataset\n",
        "from torch.nn.utils.rnn import pad_sequence\n",
        " \n",
        " \n",
        "class myDataset(Dataset):\n",
        "  def __init__(self, data_dir, segment_len=128):\n",
        "    self.data_dir = data_dir\n",
        "    self.segment_len = segment_len\n",
        " \n",
        "    # Load the mapping from speaker neme to their corresponding id. \n",
        "    mapping_path = Path(data_dir) / \"mapping.json\"\n",
        "    mapping = json.load(mapping_path.open())\n",
        "    self.speaker2id = mapping[\"speaker2id\"]\n",
        " \n",
        "    # Load metadata of training data.\n",
        "    metadata_path = Path(data_dir) / \"metadata.json\"\n",
        "    metadata = json.load(open(metadata_path))[\"speakers\"]\n",
        " \n",
        "    # Get the total number of speaker.\n",
        "    self.speaker_num = len(metadata.keys())\n",
        "    self.data = []\n",
        "    for speaker in metadata.keys():\n",
        "      for utterances in metadata[speaker]:\n",
        "        self.data.append([utterances[\"feature_path\"], self.speaker2id[speaker]])\n",
        " \n",
        "  def __len__(self):\n",
        "    return len(self.data)\n",
        " \n",
        "  def __getitem__(self, index):\n",
        "    feat_path, speaker = self.data[index]\n",
        "    # Load preprocessed mel-spectrogram.\n",
        "    mel = torch.load(os.path.join(self.data_dir, feat_path))\n",
        " \n",
        "    # Segmemt mel-spectrogram into \"segment_len\" frames.\n",
        "    if len(mel) > self.segment_len:\n",
        "      # Randomly get the starting point of the segment.\n",
        "      start = random.randint(0, len(mel) - self.segment_len)\n",
        "      # Get a segment with \"segment_len\" frames.\n",
        "      mel = torch.FloatTensor(mel[start:start+self.segment_len])\n",
        "    else:\n",
        "      mel = torch.FloatTensor(mel)\n",
        "    # Turn the speaker id into long for computing loss later.\n",
        "    speaker = torch.FloatTensor([speaker]).long()\n",
        "    return mel, speaker\n",
        " \n",
        "  def get_speaker_number(self):\n",
        "    return self.speaker_num"
      ],
      "execution_count": null,
      "outputs": []
    },
    {
      "cell_type": "markdown",
      "metadata": {
        "id": "mqJxjoi_NGnB"
      },
      "source": [
        "## Dataloader\n",
        "- Split dataset into training dataset(90%) and validation dataset(10%).\n",
        "- Create dataloader to iterate the data.\n"
      ]
    },
    {
      "cell_type": "code",
      "metadata": {
        "id": "zuT1AuFENI8t"
      },
      "source": [
        "import torch\n",
        "from torch.utils.data import DataLoader, random_split\n",
        "from torch.nn.utils.rnn import pad_sequence\n",
        "\n",
        "\n",
        "def collate_batch(batch):\n",
        "  # Process features within a batch.\n",
        "  \"\"\"Collate a batch of data.\"\"\"\n",
        "  mel, speaker = zip(*batch)\n",
        "  # Because we train the model batch by batch, we need to pad the features in the same batch to make their lengths the same.\n",
        "  mel = pad_sequence(mel, batch_first=True, padding_value=-20)    # pad log 10^(-20) which is very small value.\n",
        "  # mel: (batch size, length, 40)\n",
        "  return mel, torch.FloatTensor(speaker).long()\n",
        "\n",
        "\n",
        "def get_dataloader(data_dir, batch_size, n_workers):\n",
        "  \"\"\"Generate dataloader\"\"\"\n",
        "  dataset = myDataset(data_dir)\n",
        "  speaker_num = dataset.get_speaker_number()\n",
        "  # Split dataset into training dataset and validation dataset\n",
        "  trainlen = int(0.9 * len(dataset))\n",
        "  lengths = [trainlen, len(dataset) - trainlen]\n",
        "  trainset, validset = random_split(dataset, lengths)\n",
        "\n",
        "  train_loader = DataLoader(\n",
        "    trainset,\n",
        "    batch_size=batch_size,\n",
        "    shuffle=True,\n",
        "    drop_last=True,\n",
        "    num_workers=n_workers,\n",
        "    pin_memory=True,\n",
        "    collate_fn=collate_batch,\n",
        "  )\n",
        "  valid_loader = DataLoader(\n",
        "    validset,\n",
        "    batch_size=batch_size,\n",
        "    num_workers=n_workers,\n",
        "    drop_last=True,\n",
        "    pin_memory=True,\n",
        "    collate_fn=collate_batch,\n",
        "  )\n",
        "\n",
        "  return train_loader, valid_loader, speaker_num\n"
      ],
      "execution_count": null,
      "outputs": []
    },
    {
      "cell_type": "markdown",
      "metadata": {
        "id": "X0x6eXiHpr4R"
      },
      "source": [
        "# Model\n",
        "- TransformerEncoderLayer:\n",
        "  - Base transformer encoder layer in [Attention Is All You Need](https://arxiv.org/abs/1706.03762)\n",
        "  - Parameters:\n",
        "    - d_model: the number of expected features of the input (required).\n",
        "\n",
        "    - nhead: the number of heads of the multiheadattention models (required).\n",
        "\n",
        "    - dim_feedforward: the dimension of the feedforward network model (default=2048).\n",
        "\n",
        "    - dropout: the dropout value (default=0.1).\n",
        "\n",
        "    - activation: the activation function of intermediate layer, relu or gelu (default=relu).\n",
        "\n",
        "- TransformerEncoder:\n",
        "  - TransformerEncoder is a stack of N transformer encoder layers\n",
        "  - Parameters:\n",
        "    - encoder_layer: an instance of the TransformerEncoderLayer() class (required).\n",
        "\n",
        "    - num_layers: the number of sub-encoder-layers in the encoder (required).\n",
        "\n",
        "    - norm: the layer normalization component (optional)."
      ]
    },
    {
      "cell_type": "code",
      "metadata": {
        "colab": {
          "base_uri": "https://localhost:8080/"
        },
        "id": "1XedtKj0e5_8",
        "outputId": "2fd0725f-780c-4d59-f481-0e16c1b602dc"
      },
      "source": [
        "# install conformer package from reference [1]\n",
        "!pip install conformer"
      ],
      "execution_count": null,
      "outputs": [
        {
          "output_type": "stream",
          "text": [
            "Requirement already satisfied: conformer in /usr/local/lib/python3.7/dist-packages (0.2.3)\n",
            "Requirement already satisfied: torch in /usr/local/lib/python3.7/dist-packages (from conformer) (1.8.1+cu101)\n",
            "Requirement already satisfied: einops in /usr/local/lib/python3.7/dist-packages (from conformer) (0.3.0)\n",
            "Requirement already satisfied: numpy in /usr/local/lib/python3.7/dist-packages (from torch->conformer) (1.19.5)\n",
            "Requirement already satisfied: typing-extensions in /usr/local/lib/python3.7/dist-packages (from torch->conformer) (3.7.4.3)\n"
          ],
          "name": "stdout"
        }
      ]
    },
    {
      "cell_type": "code",
      "metadata": {
        "id": "SHX4eVj4tjtd"
      },
      "source": [
        "import torch\n",
        "import torch.nn as nn\n",
        "import torch.nn.functional as F\n",
        "from conformer import ConformerBlock\n",
        "\n",
        "class Classifier(nn.Module):\n",
        "  def __init__(self, d_model=320, n_spks=600, dropout=0.1):\n",
        "    super().__init__()\n",
        "    # Project the dimension of features from that of input into d_model.\n",
        "    self.prenet = nn.Linear(40, d_model)\n",
        "    # TODO:\n",
        "    #   Change Transformer to Conformer.\n",
        "    #   https://arxiv.org/abs/2005.08100\n",
        "    # self.encoder_layer = nn.TransformerEncoderLayer(\n",
        "    #   d_model=d_model, dim_feedforward=256, nhead=2\n",
        "    # )\n",
        "    \n",
        "    # self.encoder = nn.TransformerEncoder(self.encoder_layer, num_layers=2)\n",
        "\n",
        "    # Conformer block, reference [1], [2] (at the bottom part of the .ipynb file)\n",
        "    self.conformer_block = ConformerBlock(\n",
        "        dim = d_model,\n",
        "        dim_head = 256,\n",
        "        heads = 4,\n",
        "        ff_mult = 4,\n",
        "        conv_expansion_factor = 2,\n",
        "        conv_kernel_size = 31,\n",
        "        attn_dropout = 0.,\n",
        "        ff_dropout = 0.,\n",
        "        conv_dropout = 0.\n",
        "    )\n",
        "\n",
        "    # Project the the dimension of features from d_model into speaker nums.\n",
        "    self.pred_layer = nn.Sequential(\n",
        "      # nn.Linear(d_model, d_model),\n",
        "      # nn.ReLU(),\n",
        "      nn.Linear(d_model, n_spks),\n",
        "    )\n",
        "\n",
        "  def forward(self, mels):\n",
        "    \"\"\"\n",
        "    args:\n",
        "      mels: (batch size, length, 40)\n",
        "    return:\n",
        "      out: (batch size, n_spks)\n",
        "    \"\"\"\n",
        "    # out: (batch size, length, d_model)\n",
        "    out = self.prenet(mels)\n",
        "    # out: (length, batch size, d_model)\n",
        "    out = out.permute(1, 0, 2)\n",
        "    # The encoder layer expect features in the shape of (length, batch size, d_model).\n",
        "    # out = self.encoder_layer(out)\n",
        "    out = self.conformer_block(out)\n",
        "\n",
        "    # out: (batch size, length, d_model)\n",
        "    out = out.transpose(0, 1)\n",
        "    # mean pooling\n",
        "    stats = out.mean(dim=1)\n",
        "\n",
        "    # out: (batch, n_spks)\n",
        "    out = self.pred_layer(stats)\n",
        "    return out\n"
      ],
      "execution_count": null,
      "outputs": []
    },
    {
      "cell_type": "markdown",
      "metadata": {
        "id": "-__DolPGpvDZ"
      },
      "source": [
        "# Learning rate schedule\n",
        "- For transformer architecture, the design of learning rate schedule is different from that of CNN.\n",
        "- Previous works show that the warmup of learning rate is useful for training models with transformer architectures.\n",
        "- The warmup schedule\n",
        "  - Set learning rate to 0 in the beginning.\n",
        "  - The learning rate increases linearly from 0 to initial learning rate during warmup period."
      ]
    },
    {
      "cell_type": "code",
      "metadata": {
        "id": "K-0816BntqT9"
      },
      "source": [
        "import math\n",
        "\n",
        "import torch\n",
        "from torch.optim import Optimizer\n",
        "from torch.optim.lr_scheduler import LambdaLR\n",
        "\n",
        "\n",
        "def get_cosine_schedule_with_warmup(\n",
        "  optimizer: Optimizer,\n",
        "  num_warmup_steps: int,\n",
        "  num_training_steps: int,\n",
        "  num_cycles: float = 0.5,\n",
        "  last_epoch: int = -1,\n",
        "):\n",
        "  \"\"\"\n",
        "  Create a schedule with a learning rate that decreases following the values of the cosine function between the\n",
        "  initial lr set in the optimizer to 0, after a warmup period during which it increases linearly between 0 and the\n",
        "  initial lr set in the optimizer.\n",
        "\n",
        "  Args:\n",
        "    optimizer (:class:`~torch.optim.Optimizer`):\n",
        "      The optimizer for which to schedule the learning rate.\n",
        "    num_warmup_steps (:obj:`int`):\n",
        "      The number of steps for the warmup phase.\n",
        "    num_training_steps (:obj:`int`):\n",
        "      The total number of training steps.\n",
        "    num_cycles (:obj:`float`, `optional`, defaults to 0.5):\n",
        "      The number of waves in the cosine schedule (the defaults is to just decrease from the max value to 0\n",
        "      following a half-cosine).\n",
        "    last_epoch (:obj:`int`, `optional`, defaults to -1):\n",
        "      The index of the last epoch when resuming training.\n",
        "\n",
        "  Return:\n",
        "    :obj:`torch.optim.lr_scheduler.LambdaLR` with the appropriate schedule.\n",
        "  \"\"\"\n",
        "\n",
        "  def lr_lambda(current_step):\n",
        "    # Warmup\n",
        "    if current_step < num_warmup_steps:\n",
        "      return float(current_step) / float(max(1, num_warmup_steps))\n",
        "    # decadence\n",
        "    progress = float(current_step - num_warmup_steps) / float(\n",
        "      max(1, num_training_steps - num_warmup_steps)\n",
        "    )\n",
        "    return max(\n",
        "      0.0, 0.5 * (1.0 + math.cos(math.pi * float(num_cycles) * 2.0 * progress))\n",
        "    )\n",
        "\n",
        "  return LambdaLR(optimizer, lr_lambda, last_epoch)\n"
      ],
      "execution_count": null,
      "outputs": []
    },
    {
      "cell_type": "markdown",
      "metadata": {
        "id": "IP03FFo9K8DS"
      },
      "source": [
        "# Model Function\n",
        "- Model forward function."
      ]
    },
    {
      "cell_type": "code",
      "metadata": {
        "id": "fohaLEFJK9-t"
      },
      "source": [
        "import torch\n",
        "\n",
        "\n",
        "def model_fn(batch, model, criterion, device):\n",
        "  \"\"\"Forward a batch through the model.\"\"\"\n",
        "\n",
        "  mels, labels = batch\n",
        "  mels = mels.to(device)\n",
        "  labels = labels.to(device)\n",
        "\n",
        "  outs = model(mels)\n",
        "\n",
        "  loss = criterion(outs, labels)\n",
        "\n",
        "  # Get the speaker id with highest probability.\n",
        "  preds = outs.argmax(1)\n",
        "  # Compute accuracy.\n",
        "  accuracy = torch.mean((preds == labels).float())\n",
        "\n",
        "  return loss, accuracy\n"
      ],
      "execution_count": null,
      "outputs": []
    },
    {
      "cell_type": "markdown",
      "metadata": {
        "id": "F7cg-YrzLQcf"
      },
      "source": [
        "# Validate\n",
        "- Calculate accuracy of the validation set."
      ]
    },
    {
      "cell_type": "code",
      "metadata": {
        "id": "mD-_p6nWLO2L"
      },
      "source": [
        "from tqdm import tqdm\n",
        "import torch\n",
        "\n",
        "\n",
        "def valid(dataloader, model, criterion, device): \n",
        "  \"\"\"Validate on validation set.\"\"\"\n",
        "\n",
        "  model.eval()\n",
        "  running_loss = 0.0\n",
        "  running_accuracy = 0.0\n",
        "  pbar = tqdm(total=len(dataloader.dataset), ncols=0, desc=\"Valid\", unit=\" uttr\")\n",
        "\n",
        "  for i, batch in enumerate(dataloader):\n",
        "    with torch.no_grad():\n",
        "      loss, accuracy = model_fn(batch, model, criterion, device)\n",
        "      running_loss += loss.item()\n",
        "      running_accuracy += accuracy.item()\n",
        "\n",
        "    pbar.update(dataloader.batch_size)\n",
        "    pbar.set_postfix(\n",
        "      loss=f\"{running_loss / (i+1):.2f}\",\n",
        "      accuracy=f\"{running_accuracy / (i+1):.2f}\",\n",
        "    )\n",
        "\n",
        "  pbar.close()\n",
        "  model.train()\n",
        "\n",
        "  return running_accuracy / len(dataloader)\n"
      ],
      "execution_count": null,
      "outputs": []
    },
    {
      "cell_type": "markdown",
      "metadata": {
        "id": "noHXyal5p1W5"
      },
      "source": [
        "# Main function"
      ]
    },
    {
      "cell_type": "code",
      "metadata": {
        "id": "chRQE7oYtw62",
        "colab": {
          "base_uri": "https://localhost:8080/"
        },
        "outputId": "83e6da12-bea8-46bf-a2df-3975f957bd22"
      },
      "source": [
        "from tqdm import tqdm\n",
        "\n",
        "import torch\n",
        "import torch.nn as nn\n",
        "from torch.optim import AdamW\n",
        "from torch.utils.data import DataLoader, random_split\n",
        "\n",
        "\n",
        "def parse_args():\n",
        "  \"\"\"arguments\"\"\"\n",
        "  config = {\n",
        "    \"data_dir\": \"./Dataset\",\n",
        "    \"save_path\": \"model.ckpt\",\n",
        "    \"batch_size\": 32,\n",
        "    \"n_workers\": 8,\n",
        "    \"valid_steps\": 2000,\n",
        "    \"warmup_steps\": 1000,\n",
        "    \"save_steps\": 10000,\n",
        "    \"total_steps\": 130000,\n",
        "  }\n",
        "\n",
        "  return config\n",
        "\n",
        "\n",
        "def main(\n",
        "  data_dir,\n",
        "  save_path,\n",
        "  batch_size,\n",
        "  n_workers,\n",
        "  valid_steps,\n",
        "  warmup_steps,\n",
        "  total_steps,\n",
        "  save_steps,\n",
        "):\n",
        "  \"\"\"Main function.\"\"\"\n",
        "  device = torch.device(\"cuda\" if torch.cuda.is_available() else \"cpu\")\n",
        "  print(f\"[Info]: Use {device} now!\")\n",
        "\n",
        "  train_loader, valid_loader, speaker_num = get_dataloader(data_dir, batch_size, n_workers)\n",
        "  train_iterator = iter(train_loader)\n",
        "  print(f\"[Info]: Finish loading data!\",flush = True)\n",
        "\n",
        "  model = Classifier(n_spks=speaker_num).to(device)\n",
        "  criterion = nn.CrossEntropyLoss()\n",
        "  optimizer = AdamW(model.parameters(), lr=1e-3)\n",
        "  scheduler = get_cosine_schedule_with_warmup(optimizer, warmup_steps, total_steps)\n",
        "  print(f\"[Info]: Finish creating model!\",flush = True)\n",
        "\n",
        "  best_accuracy = -1.0\n",
        "  best_state_dict = None\n",
        "\n",
        "  pbar = tqdm(total=valid_steps, ncols=0, desc=\"Train\", unit=\" step\")\n",
        "\n",
        "  for step in range(total_steps):\n",
        "    # Get data\n",
        "    try:\n",
        "      batch = next(train_iterator)\n",
        "    except StopIteration:\n",
        "      train_iterator = iter(train_loader)\n",
        "      batch = next(train_iterator)\n",
        "\n",
        "    loss, accuracy = model_fn(batch, model, criterion, device)\n",
        "    batch_loss = loss.item()\n",
        "    batch_accuracy = accuracy.item()\n",
        "\n",
        "    # Updata model\n",
        "    loss.backward()\n",
        "    optimizer.step()\n",
        "    scheduler.step()\n",
        "    optimizer.zero_grad()\n",
        "    \n",
        "    # Log\n",
        "    pbar.update()\n",
        "    pbar.set_postfix(\n",
        "      loss=f\"{batch_loss:.2f}\",\n",
        "      accuracy=f\"{batch_accuracy:.2f}\",\n",
        "      step=step + 1,\n",
        "    )\n",
        "\n",
        "    # Do validation\n",
        "    if (step + 1) % valid_steps == 0:\n",
        "      pbar.close()\n",
        "\n",
        "      valid_accuracy = valid(valid_loader, model, criterion, device)\n",
        "\n",
        "      # keep the best model\n",
        "      if valid_accuracy > best_accuracy:\n",
        "        best_accuracy = valid_accuracy\n",
        "        best_state_dict = model.state_dict()\n",
        "\n",
        "      pbar = tqdm(total=valid_steps, ncols=0, desc=\"Train\", unit=\" step\")\n",
        "\n",
        "    # Save the best model so far.\n",
        "    if (step + 1) % save_steps == 0 and best_state_dict is not None:\n",
        "      torch.save(best_state_dict, save_path)\n",
        "      pbar.write(f\"Step {step + 1}, best model saved. (accuracy={best_accuracy:.4f})\")\n",
        "\n",
        "  pbar.close()\n",
        "\n",
        "\n",
        "if __name__ == \"__main__\":\n",
        "  main(**parse_args())\n"
      ],
      "execution_count": null,
      "outputs": [
        {
          "output_type": "stream",
          "text": [
            "[Info]: Use cuda now!\n"
          ],
          "name": "stdout"
        },
        {
          "output_type": "stream",
          "text": [
            "/usr/local/lib/python3.7/dist-packages/torch/utils/data/dataloader.py:477: UserWarning: This DataLoader will create 8 worker processes in total. Our suggested max number of worker in current system is 2, which is smaller than what this DataLoader is going to create. Please be aware that excessive worker creation might get DataLoader running slow or even freeze, lower the worker number to avoid potential slowness/freeze if necessary.\n",
            "  cpuset_checked))\n"
          ],
          "name": "stderr"
        },
        {
          "output_type": "stream",
          "text": [
            "[Info]: Finish loading data!\n",
            "[Info]: Finish creating model!\n"
          ],
          "name": "stdout"
        },
        {
          "output_type": "stream",
          "text": [
            "Train: 100% 2000/2000 [03:24<00:00,  9.78 step/s, accuracy=0.22, loss=3.91, step=2000]\n",
            "Valid: 100% 6944/6944 [00:27<00:00, 252.55 uttr/s, accuracy=0.29, loss=3.45]\n",
            "Train: 100% 2000/2000 [03:39<00:00,  9.13 step/s, accuracy=0.47, loss=2.71, step=4000]\n",
            "Valid: 100% 6944/6944 [00:24<00:00, 282.87 uttr/s, accuracy=0.45, loss=2.54]\n",
            "Train: 100% 2000/2000 [03:31<00:00,  9.45 step/s, accuracy=0.41, loss=2.45, step=6000]\n",
            "Valid: 100% 6944/6944 [00:25<00:00, 277.53 uttr/s, accuracy=0.53, loss=2.07]\n",
            "Train: 100% 2000/2000 [03:30<00:00,  9.51 step/s, accuracy=0.72, loss=1.58, step=8000]\n",
            "Valid: 100% 6944/6944 [00:24<00:00, 280.24 uttr/s, accuracy=0.58, loss=1.82]\n",
            "Train: 100% 2000/2000 [03:30<00:00,  9.49 step/s, accuracy=0.78, loss=1.62, step=1e+4]\n",
            "Valid: 100% 6944/6944 [00:24<00:00, 280.63 uttr/s, accuracy=0.65, loss=1.51]\n",
            "Train:   0% 4/2000 [00:00<03:52,  8.59 step/s, accuracy=0.69, loss=1.36, step=1e+4]"
          ],
          "name": "stderr"
        },
        {
          "output_type": "stream",
          "text": [
            "Step 10000, best model saved. (accuracy=0.6539)\n"
          ],
          "name": "stdout"
        },
        {
          "output_type": "stream",
          "text": [
            "Train: 100% 2000/2000 [03:29<00:00,  9.56 step/s, accuracy=0.72, loss=1.03, step=12000]\n",
            "Valid: 100% 6944/6944 [00:25<00:00, 277.44 uttr/s, accuracy=0.67, loss=1.38]\n",
            "Train: 100% 2000/2000 [03:29<00:00,  9.53 step/s, accuracy=0.81, loss=0.64, step=14000]\n",
            "Valid: 100% 6944/6944 [00:25<00:00, 273.73 uttr/s, accuracy=0.71, loss=1.27]\n",
            "Train: 100% 2000/2000 [03:28<00:00,  9.58 step/s, accuracy=0.69, loss=0.85, step=16000]\n",
            "Valid: 100% 6944/6944 [00:25<00:00, 276.07 uttr/s, accuracy=0.71, loss=1.24]\n",
            "Train: 100% 2000/2000 [03:26<00:00,  9.67 step/s, accuracy=0.81, loss=0.58, step=18000]\n",
            "Valid: 100% 6944/6944 [00:25<00:00, 272.12 uttr/s, accuracy=0.73, loss=1.17]\n",
            "Train: 100% 2000/2000 [03:25<00:00,  9.71 step/s, accuracy=0.66, loss=1.66, step=2e+4]\n",
            "Valid: 100% 6944/6944 [00:25<00:00, 273.74 uttr/s, accuracy=0.74, loss=1.11]\n",
            "Train:   0% 4/2000 [00:00<02:59, 11.10 step/s, accuracy=0.81, loss=0.61, step=2e+4]"
          ],
          "name": "stderr"
        },
        {
          "output_type": "stream",
          "text": [
            "Step 20000, best model saved. (accuracy=0.7401)\n"
          ],
          "name": "stdout"
        },
        {
          "output_type": "stream",
          "text": [
            "Train: 100% 2000/2000 [03:25<00:00,  9.73 step/s, accuracy=0.88, loss=0.54, step=22000]\n",
            "Valid: 100% 6944/6944 [00:25<00:00, 272.33 uttr/s, accuracy=0.75, loss=1.04]\n",
            "Train: 100% 2000/2000 [03:23<00:00,  9.83 step/s, accuracy=0.78, loss=0.75, step=24000]\n",
            "Valid: 100% 6944/6944 [00:25<00:00, 269.82 uttr/s, accuracy=0.77, loss=1.00]\n",
            "Train: 100% 2000/2000 [03:25<00:00,  9.74 step/s, accuracy=0.84, loss=0.70, step=26000]\n",
            "Valid: 100% 6944/6944 [00:25<00:00, 268.59 uttr/s, accuracy=0.76, loss=1.01]\n",
            "Train: 100% 2000/2000 [03:23<00:00,  9.82 step/s, accuracy=0.88, loss=0.75, step=28000]\n",
            "Valid: 100% 6944/6944 [00:25<00:00, 273.63 uttr/s, accuracy=0.77, loss=1.00]\n",
            "Train: 100% 2000/2000 [03:22<00:00,  9.90 step/s, accuracy=0.72, loss=0.90, step=3e+4]\n",
            "Valid: 100% 6944/6944 [00:25<00:00, 268.27 uttr/s, accuracy=0.79, loss=0.90]\n",
            "Train:   0% 3/2000 [00:00<03:27,  9.64 step/s, accuracy=0.81, loss=0.70, step=3e+4]"
          ],
          "name": "stderr"
        },
        {
          "output_type": "stream",
          "text": [
            "Step 30000, best model saved. (accuracy=0.7910)\n"
          ],
          "name": "stdout"
        },
        {
          "output_type": "stream",
          "text": [
            "Train: 100% 2000/2000 [03:22<00:00,  9.89 step/s, accuracy=0.88, loss=0.48, step=32000]\n",
            "Valid: 100% 6944/6944 [00:26<00:00, 262.84 uttr/s, accuracy=0.79, loss=0.87]\n",
            "Train: 100% 2000/2000 [03:20<00:00,  9.99 step/s, accuracy=0.91, loss=0.31, step=34000]\n",
            "Valid: 100% 6944/6944 [00:25<00:00, 268.36 uttr/s, accuracy=0.79, loss=0.88]\n",
            "Train: 100% 2000/2000 [03:19<00:00, 10.01 step/s, accuracy=0.91, loss=0.38, step=36000]\n",
            "Valid: 100% 6944/6944 [00:24<00:00, 278.87 uttr/s, accuracy=0.79, loss=0.91]\n",
            "Train: 100% 2000/2000 [03:19<00:00, 10.05 step/s, accuracy=0.97, loss=0.11, step=38000]\n",
            "Valid: 100% 6944/6944 [00:24<00:00, 288.57 uttr/s, accuracy=0.80, loss=0.85]\n",
            "Train: 100% 2000/2000 [03:18<00:00, 10.09 step/s, accuracy=0.94, loss=0.18, step=4e+4]\n",
            "Valid: 100% 6944/6944 [00:25<00:00, 274.42 uttr/s, accuracy=0.80, loss=0.86]\n",
            "Train:   0% 3/2000 [00:00<03:53,  8.55 step/s, accuracy=0.94, loss=0.29, step=4e+4]"
          ],
          "name": "stderr"
        },
        {
          "output_type": "stream",
          "text": [
            "Step 40000, best model saved. (accuracy=0.8034)\n"
          ],
          "name": "stdout"
        },
        {
          "output_type": "stream",
          "text": [
            "Train: 100% 2000/2000 [03:19<00:00, 10.03 step/s, accuracy=1.00, loss=0.10, step=42000]\n",
            "Valid: 100% 6944/6944 [00:25<00:00, 270.90 uttr/s, accuracy=0.83, loss=0.76]\n",
            "Train: 100% 2000/2000 [03:18<00:00, 10.06 step/s, accuracy=0.94, loss=0.49, step=44000]\n",
            "Valid: 100% 6944/6944 [00:25<00:00, 271.62 uttr/s, accuracy=0.82, loss=0.77]\n",
            "Train: 100% 2000/2000 [03:15<00:00, 10.24 step/s, accuracy=1.00, loss=0.18, step=46000]\n",
            "Valid: 100% 6944/6944 [00:26<00:00, 262.70 uttr/s, accuracy=0.83, loss=0.73]\n",
            "Train: 100% 2000/2000 [03:14<00:00, 10.27 step/s, accuracy=0.97, loss=0.10, step=48000]\n",
            "Valid: 100% 6944/6944 [00:26<00:00, 262.82 uttr/s, accuracy=0.83, loss=0.78]\n",
            "Train: 100% 2000/2000 [03:16<00:00, 10.20 step/s, accuracy=0.94, loss=0.30, step=5e+4]\n",
            "Valid: 100% 6944/6944 [00:26<00:00, 263.41 uttr/s, accuracy=0.83, loss=0.73]\n",
            "Train:   0% 4/2000 [00:00<03:06, 10.72 step/s, accuracy=0.97, loss=0.14, step=5e+4]"
          ],
          "name": "stderr"
        },
        {
          "output_type": "stream",
          "text": [
            "Step 50000, best model saved. (accuracy=0.8340)\n"
          ],
          "name": "stdout"
        },
        {
          "output_type": "stream",
          "text": [
            "Train: 100% 2000/2000 [03:17<00:00, 10.12 step/s, accuracy=0.91, loss=0.20, step=52000]\n",
            "Valid: 100% 6944/6944 [00:26<00:00, 260.94 uttr/s, accuracy=0.83, loss=0.74]\n",
            "Train: 100% 2000/2000 [03:16<00:00, 10.16 step/s, accuracy=0.91, loss=0.27, step=54000]\n",
            "Valid: 100% 6944/6944 [00:26<00:00, 257.32 uttr/s, accuracy=0.83, loss=0.73]\n",
            "Train: 100% 2000/2000 [03:20<00:00,  9.98 step/s, accuracy=0.94, loss=0.19, step=56000]\n",
            "Valid: 100% 6944/6944 [00:26<00:00, 265.60 uttr/s, accuracy=0.84, loss=0.70]\n",
            "Train: 100% 2000/2000 [03:22<00:00,  9.89 step/s, accuracy=0.97, loss=0.16, step=58000]\n",
            "Valid: 100% 6944/6944 [00:26<00:00, 260.16 uttr/s, accuracy=0.85, loss=0.66]\n",
            "Train: 100% 2000/2000 [03:24<00:00,  9.78 step/s, accuracy=0.91, loss=0.36, step=6e+4]\n",
            "Valid: 100% 6944/6944 [00:26<00:00, 263.98 uttr/s, accuracy=0.84, loss=0.70]\n",
            "Train:   0% 4/2000 [00:00<03:12, 10.36 step/s, accuracy=0.91, loss=0.27, step=6e+4]"
          ],
          "name": "stderr"
        },
        {
          "output_type": "stream",
          "text": [
            "Step 60000, best model saved. (accuracy=0.8472)\n"
          ],
          "name": "stdout"
        },
        {
          "output_type": "stream",
          "text": [
            "Train: 100% 2000/2000 [03:25<00:00,  9.72 step/s, accuracy=0.84, loss=0.33, step=62000]\n",
            "Valid: 100% 6944/6944 [00:26<00:00, 262.84 uttr/s, accuracy=0.85, loss=0.66]\n",
            "Train: 100% 2000/2000 [03:26<00:00,  9.66 step/s, accuracy=0.97, loss=0.16, step=64000]\n",
            "Valid: 100% 6944/6944 [00:25<00:00, 267.23 uttr/s, accuracy=0.85, loss=0.65]\n",
            "Train: 100% 2000/2000 [03:27<00:00,  9.63 step/s, accuracy=0.97, loss=0.13, step=66000]\n",
            "Valid: 100% 6944/6944 [00:26<00:00, 266.72 uttr/s, accuracy=0.85, loss=0.64]\n",
            "Train: 100% 2000/2000 [03:28<00:00,  9.60 step/s, accuracy=0.94, loss=0.19, step=68000]\n",
            "Valid: 100% 6944/6944 [00:26<00:00, 267.06 uttr/s, accuracy=0.85, loss=0.65]\n",
            "Train: 100% 2000/2000 [03:30<00:00,  9.49 step/s, accuracy=1.00, loss=0.09, step=7e+4]\n",
            "Valid: 100% 6944/6944 [00:26<00:00, 257.63 uttr/s, accuracy=0.86, loss=0.61]\n",
            "Train:   0% 4/2000 [00:00<03:08, 10.59 step/s, accuracy=1.00, loss=0.06, step=7e+4]"
          ],
          "name": "stderr"
        },
        {
          "output_type": "stream",
          "text": [
            "Step 70000, best model saved. (accuracy=0.8606)\n"
          ],
          "name": "stdout"
        },
        {
          "output_type": "stream",
          "text": [
            "Train: 100% 2000/2000 [03:30<00:00,  9.51 step/s, accuracy=0.94, loss=0.31, step=72000]\n",
            "Valid: 100% 6944/6944 [00:26<00:00, 258.79 uttr/s, accuracy=0.86, loss=0.62]\n",
            "Train: 100% 2000/2000 [03:29<00:00,  9.53 step/s, accuracy=0.97, loss=0.06, step=74000]\n",
            "Valid: 100% 6944/6944 [00:25<00:00, 267.18 uttr/s, accuracy=0.86, loss=0.62]\n",
            "Train: 100% 2000/2000 [03:30<00:00,  9.49 step/s, accuracy=1.00, loss=0.11, step=76000]\n",
            "Valid: 100% 6944/6944 [00:26<00:00, 265.68 uttr/s, accuracy=0.86, loss=0.60]\n",
            "Train: 100% 2000/2000 [03:30<00:00,  9.50 step/s, accuracy=0.97, loss=0.09, step=78000]\n",
            "Valid: 100% 6944/6944 [00:25<00:00, 270.31 uttr/s, accuracy=0.87, loss=0.60]\n",
            "Train: 100% 2000/2000 [03:31<00:00,  9.44 step/s, accuracy=0.97, loss=0.11, step=8e+4]\n",
            "Valid: 100% 6944/6944 [00:25<00:00, 271.21 uttr/s, accuracy=0.87, loss=0.59]\n",
            "Train:   0% 4/2000 [00:00<03:01, 10.98 step/s, accuracy=1.00, loss=0.06, step=8e+4]"
          ],
          "name": "stderr"
        },
        {
          "output_type": "stream",
          "text": [
            "Step 80000, best model saved. (accuracy=0.8675)\n"
          ],
          "name": "stdout"
        },
        {
          "output_type": "stream",
          "text": [
            "Train: 100% 2000/2000 [03:32<00:00,  9.42 step/s, accuracy=1.00, loss=0.02, step=82000]\n",
            "Valid: 100% 6944/6944 [00:23<00:00, 292.24 uttr/s, accuracy=0.87, loss=0.58]\n",
            "Train: 100% 2000/2000 [03:31<00:00,  9.45 step/s, accuracy=1.00, loss=0.05, step=84000]\n",
            "Valid: 100% 6944/6944 [00:24<00:00, 278.33 uttr/s, accuracy=0.88, loss=0.57]\n",
            "Train: 100% 2000/2000 [03:31<00:00,  9.45 step/s, accuracy=0.97, loss=0.19, step=86000]\n",
            "Valid: 100% 6944/6944 [00:24<00:00, 278.13 uttr/s, accuracy=0.88, loss=0.54]\n",
            "Train: 100% 2000/2000 [03:31<00:00,  9.48 step/s, accuracy=1.00, loss=0.07, step=88000]\n",
            "Valid: 100% 6944/6944 [00:25<00:00, 276.75 uttr/s, accuracy=0.88, loss=0.56]\n",
            "Train: 100% 2000/2000 [03:31<00:00,  9.46 step/s, accuracy=1.00, loss=0.03, step=9e+4]\n",
            "Valid: 100% 6944/6944 [00:24<00:00, 281.48 uttr/s, accuracy=0.89, loss=0.52]\n",
            "Train:   0% 4/2000 [00:00<03:45,  8.85 step/s, accuracy=0.94, loss=0.12, step=9e+4]"
          ],
          "name": "stderr"
        },
        {
          "output_type": "stream",
          "text": [
            "Step 90000, best model saved. (accuracy=0.8864)\n"
          ],
          "name": "stdout"
        },
        {
          "output_type": "stream",
          "text": [
            "Train: 100% 2000/2000 [03:31<00:00,  9.45 step/s, accuracy=0.97, loss=0.05, step=92000]\n",
            "Valid: 100% 6944/6944 [00:24<00:00, 280.78 uttr/s, accuracy=0.89, loss=0.51]\n",
            "Train: 100% 2000/2000 [03:31<00:00,  9.47 step/s, accuracy=0.97, loss=0.12, step=94000]\n",
            "Valid: 100% 6944/6944 [00:24<00:00, 278.49 uttr/s, accuracy=0.89, loss=0.50]\n",
            "Train: 100% 2000/2000 [03:29<00:00,  9.57 step/s, accuracy=1.00, loss=0.01, step=96000]\n",
            "Valid: 100% 6944/6944 [00:25<00:00, 274.81 uttr/s, accuracy=0.89, loss=0.49]\n",
            "Train: 100% 2000/2000 [03:29<00:00,  9.55 step/s, accuracy=1.00, loss=0.03, step=98000]\n",
            "Valid: 100% 6944/6944 [00:25<00:00, 274.18 uttr/s, accuracy=0.89, loss=0.51]\n",
            "Train: 100% 2000/2000 [03:26<00:00,  9.66 step/s, accuracy=0.97, loss=0.10, step=1e+5]\n",
            "Valid: 100% 6944/6944 [00:25<00:00, 273.67 uttr/s, accuracy=0.89, loss=0.52]\n",
            "Train:   0% 4/2000 [00:00<03:49,  8.70 step/s, accuracy=0.97, loss=0.16, step=1e+5]"
          ],
          "name": "stderr"
        },
        {
          "output_type": "stream",
          "text": [
            "Step 100000, best model saved. (accuracy=0.8947)\n"
          ],
          "name": "stdout"
        },
        {
          "output_type": "stream",
          "text": [
            "Train: 100% 2000/2000 [03:28<00:00,  9.61 step/s, accuracy=1.00, loss=0.01, step=102000]\n",
            "Valid: 100% 6944/6944 [00:24<00:00, 278.77 uttr/s, accuracy=0.89, loss=0.50]\n",
            "Train: 100% 2000/2000 [03:28<00:00,  9.61 step/s, accuracy=1.00, loss=0.01, step=104000]\n",
            "Valid: 100% 6944/6944 [00:25<00:00, 272.52 uttr/s, accuracy=0.90, loss=0.47]\n",
            "Train: 100% 2000/2000 [03:26<00:00,  9.70 step/s, accuracy=1.00, loss=0.01, step=106000]\n",
            "Valid: 100% 6944/6944 [00:25<00:00, 270.87 uttr/s, accuracy=0.90, loss=0.46]\n",
            "Train: 100% 2000/2000 [03:23<00:00,  9.81 step/s, accuracy=1.00, loss=0.00, step=108000]\n",
            "Valid: 100% 6944/6944 [00:25<00:00, 269.60 uttr/s, accuracy=0.90, loss=0.45]\n",
            "Train: 100% 2000/2000 [03:23<00:00,  9.83 step/s, accuracy=0.97, loss=0.05, step=110000]\n",
            "Valid: 100% 6944/6944 [00:25<00:00, 271.99 uttr/s, accuracy=0.90, loss=0.49]\n",
            "Train:   0% 4/2000 [00:00<03:41,  9.02 step/s, accuracy=1.00, loss=0.02, step=110004]"
          ],
          "name": "stderr"
        },
        {
          "output_type": "stream",
          "text": [
            "Step 110000, best model saved. (accuracy=0.8989)\n"
          ],
          "name": "stdout"
        },
        {
          "output_type": "stream",
          "text": [
            "Train: 100% 2000/2000 [03:22<00:00,  9.87 step/s, accuracy=1.00, loss=0.01, step=112000]\n",
            "Valid: 100% 6944/6944 [00:26<00:00, 262.72 uttr/s, accuracy=0.90, loss=0.46]\n",
            "Train: 100% 2000/2000 [03:22<00:00,  9.89 step/s, accuracy=1.00, loss=0.03, step=114000]\n",
            "Valid: 100% 6944/6944 [00:26<00:00, 260.88 uttr/s, accuracy=0.90, loss=0.46]\n",
            "Train: 100% 2000/2000 [03:20<00:00,  9.99 step/s, accuracy=1.00, loss=0.01, step=116000]\n",
            "Valid: 100% 6944/6944 [00:25<00:00, 273.39 uttr/s, accuracy=0.90, loss=0.46]\n",
            "Train:  75% 1503/2000 [02:38<00:29, 16.85 step/s, accuracy=1.00, loss=0.05, step=117502]"
          ],
          "name": "stderr"
        }
      ]
    },
    {
      "cell_type": "markdown",
      "metadata": {
        "id": "0R2rx3AyHpQ-"
      },
      "source": [
        "# Inference"
      ]
    },
    {
      "cell_type": "markdown",
      "metadata": {
        "id": "pSuI3WY9Fz78"
      },
      "source": [
        "## Dataset of inference"
      ]
    },
    {
      "cell_type": "code",
      "metadata": {
        "id": "4evns0055Dsx"
      },
      "source": [
        "import os\n",
        "import json\n",
        "import torch\n",
        "from pathlib import Path\n",
        "from torch.utils.data import Dataset\n",
        "\n",
        "\n",
        "class InferenceDataset(Dataset):\n",
        "  def __init__(self, data_dir):\n",
        "    testdata_path = Path(data_dir) / \"testdata.json\"\n",
        "    metadata = json.load(testdata_path.open())\n",
        "    self.data_dir = data_dir\n",
        "    self.data = metadata[\"utterances\"]\n",
        "\n",
        "  def __len__(self):\n",
        "    return len(self.data)\n",
        "\n",
        "  def __getitem__(self, index):\n",
        "    utterance = self.data[index]\n",
        "    feat_path = utterance[\"feature_path\"]\n",
        "    mel = torch.load(os.path.join(self.data_dir, feat_path))\n",
        "\n",
        "    return feat_path, mel\n",
        "\n",
        "\n",
        "def inference_collate_batch(batch):\n",
        "  \"\"\"Collate a batch of data.\"\"\"\n",
        "  feat_paths, mels = zip(*batch)\n",
        "\n",
        "  return feat_paths, torch.stack(mels)\n"
      ],
      "execution_count": null,
      "outputs": []
    },
    {
      "cell_type": "markdown",
      "metadata": {
        "id": "oAinHBG1GIWv"
      },
      "source": [
        "## Main funcrion of Inference"
      ]
    },
    {
      "cell_type": "code",
      "metadata": {
        "id": "yQaTt7VDHoRI"
      },
      "source": [
        "import json\n",
        "import csv\n",
        "from pathlib import Path\n",
        "from tqdm.notebook import tqdm\n",
        "\n",
        "import torch\n",
        "from torch.utils.data import DataLoader\n",
        "\n",
        "def parse_args():\n",
        "  \"\"\"arguments\"\"\"\n",
        "  config = {\n",
        "    \"data_dir\": \"./Dataset\",\n",
        "    \"model_path\": \"./model.ckpt\",\n",
        "    \"output_path\": \"./output.csv\",\n",
        "  }\n",
        "\n",
        "  return config\n",
        "\n",
        "\n",
        "def main(\n",
        "  data_dir,\n",
        "  model_path,\n",
        "  output_path,\n",
        "):\n",
        "  \"\"\"Main function.\"\"\"\n",
        "  device = torch.device(\"cuda\" if torch.cuda.is_available() else \"cpu\")\n",
        "  print(f\"[Info]: Use {device} now!\")\n",
        "\n",
        "  mapping_path = Path(data_dir) / \"mapping.json\"\n",
        "  mapping = json.load(mapping_path.open())\n",
        "\n",
        "  dataset = InferenceDataset(data_dir)\n",
        "  dataloader = DataLoader(\n",
        "    dataset,\n",
        "    batch_size=1,\n",
        "    shuffle=False,\n",
        "    drop_last=False,\n",
        "    num_workers=8,\n",
        "    collate_fn=inference_collate_batch,\n",
        "  )\n",
        "  print(f\"[Info]: Finish loading data!\",flush = True)\n",
        "\n",
        "  speaker_num = len(mapping[\"id2speaker\"])\n",
        "  model = Classifier(n_spks=speaker_num).to(device)\n",
        "  model.load_state_dict(torch.load(model_path))\n",
        "  model.eval()\n",
        "  print(f\"[Info]: Finish creating model!\",flush = True)\n",
        "\n",
        "  results = [[\"Id\", \"Category\"]]\n",
        "  for feat_paths, mels in tqdm(dataloader):\n",
        "    with torch.no_grad():\n",
        "      mels = mels.to(device)\n",
        "      outs = model(mels)\n",
        "      preds = outs.argmax(1).cpu().numpy()\n",
        "      for feat_path, pred in zip(feat_paths, preds):\n",
        "        results.append([feat_path, mapping[\"id2speaker\"][str(pred)]])\n",
        "  \n",
        "  with open(output_path, 'w', newline='') as csvfile:\n",
        "    writer = csv.writer(csvfile)\n",
        "    writer.writerows(results)\n",
        "\n",
        "\n",
        "if __name__ == \"__main__\":\n",
        "  main(**parse_args())\n"
      ],
      "execution_count": null,
      "outputs": []
    },
    {
      "cell_type": "code",
      "metadata": {
        "id": "-j-1xifdYgn4"
      },
      "source": [
        "# Vote from model's output:  \n",
        "# model1 (d_model = 300, head=2, steps =100000) test acc: 0.95619\n",
        "# model2 (d_model = 300, head=4, steps =100000) test acc: 0.95804\n",
        "# model3 (d_model = 320, head=4, steps =120000) test acc: 0.96095\n",
        "\n",
        "import io\n",
        "from google.colab import files\n",
        "import pandas as pd\n",
        "\n",
        "uploaded = files.upload()\n",
        "uploaded2 = files.upload()\n",
        "uploaded3 = files.upload()\n",
        "\n",
        "df = pd.read_csv(io.BytesIO(uploaded['output (2).csv']))      #test acc: 0.95619\n",
        "df2 = pd.read_csv(io.BytesIO(uploaded2['output (3).csv']))    #test acc: 0.95804\n",
        "df3 = pd.read_csv(io.BytesIO(uploaded3['output (4).csv']))    #test acc: 0.96095\n",
        "\n",
        "from collections import Counter\n",
        "tmp = []\n",
        "for i in range(len(df)):\n",
        "  cnt = Counter([df.iloc[i][1],df2.iloc[i][1],df3.iloc[i][1]])\n",
        "  # 三個預測都不一樣以model3為準\n",
        "  if len(cnt) == 3:     \n",
        "    tmp.append(df3.iloc[i][1])\n",
        "  # 取預測次數最多的\n",
        "  elif len(cnt) == 2:\n",
        "    #print(cnt)\n",
        "    k = cnt.most_common(1)[0][0]\n",
        "    #print(k)\n",
        "    tmp.append(k)\n",
        "  # 三個預測都一致\n",
        "  else:\n",
        "    tmp.append(df.iloc[i][1])"
      ],
      "execution_count": null,
      "outputs": []
    },
    {
      "cell_type": "code",
      "metadata": {
        "id": "lXrd1EhOZIt1"
      },
      "source": [
        "# Save predictions into the file.\n",
        "with open(\"vote_output.csv\", \"w\") as f:\n",
        "\n",
        "    # The first row must be \"Id, Category\"\n",
        "    f.write(\"Id,Category\\n\")\n",
        "\n",
        "    # For the rest of the rows, each image id corresponds to a predicted class.\n",
        "    for i, pred in  enumerate(tmp):\n",
        "         f.write(f\"{df.iloc[i][0]},{pred}\\n\")"
      ],
      "execution_count": null,
      "outputs": []
    },
    {
      "cell_type": "markdown",
      "metadata": {
        "id": "Yvt9QWkBmx67"
      },
      "source": [
        "# **Reference:**\n",
        "* [1] Conformer package & usage: https://github.com/lucidrains/conformer\n",
        "* [2] Confromer architecture: https://github.com/lucidrains/conformer/blob/master/conformer/conformer.py"
      ]
    }
  ]
}