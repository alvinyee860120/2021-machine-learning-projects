{
  "nbformat": 4,
  "nbformat_minor": 0,
  "metadata": {
    "accelerator": "GPU",
    "colab": {
      "name": "r08725049_ML2021Spring_HW1.ipynb",
      "provenance": [],
      "collapsed_sections": []
    },
    "kernelspec": {
      "display_name": "Python 3",
      "name": "python3"
    }
  },
  "cells": [
    {
      "cell_type": "markdown",
      "metadata": {
        "id": "mz0_QVkxCrX3"
      },
      "source": [
        "# **Homework 1: COVID-19 Cases Prediction (Regression)**"
      ]
    },
    {
      "cell_type": "markdown",
      "metadata": {
        "id": "ZeZnPAiwDRWG"
      },
      "source": [
        "Author: Heng-Jui Chang\n",
        "\n",
        "Slides: https://github.com/ga642381/ML2021-Spring/blob/main/HW01/HW01.pdf  \n",
        "Video: TBA\n",
        "\n",
        "Objectives:\n",
        "* Solve a regression problem with deep neural networks (DNN).\n",
        "* Understand basic DNN training tips.\n",
        "* Get familiar with PyTorch.\n",
        "\n",
        "If any questions, please contact the TAs via TA hours, NTU COOL, or email.\n"
      ]
    },
    {
      "cell_type": "markdown",
      "metadata": {
        "id": "Jx3x1nDkG-Uy"
      },
      "source": [
        "# **Download Data**\n",
        "\n",
        "\n",
        "If the Google drive links are dead, you can download data from [kaggle](https://www.kaggle.com/c/ml2021spring-hw1/data), and upload data manually to the workspace."
      ]
    },
    {
      "cell_type": "code",
      "metadata": {
        "colab": {
          "base_uri": "https://localhost:8080/"
        },
        "id": "tMj55YDKG6ch",
        "outputId": "9d7674d2-d71c-48ee-a8f1-80bd8b895720"
      },
      "source": [
        "tr_path = 'covid.train.csv'  # path to training data\n",
        "tt_path = 'covid.test.csv'   # path to testing data\n",
        "\n",
        "!gdown --id '19CCyCgJrUxtvgZF53vnctJiOJ23T5mqF' --output covid.train.csv\n",
        "!gdown --id '1CE240jLm2npU-tdz81-oVKEF3T2yfT1O' --output covid.test.csv"
      ],
      "execution_count": null,
      "outputs": [
        {
          "output_type": "stream",
          "text": [
            "Downloading...\n",
            "From: https://drive.google.com/uc?id=19CCyCgJrUxtvgZF53vnctJiOJ23T5mqF\n",
            "To: /content/covid.train.csv\n",
            "100% 2.00M/2.00M [00:00<00:00, 31.3MB/s]\n",
            "Downloading...\n",
            "From: https://drive.google.com/uc?id=1CE240jLm2npU-tdz81-oVKEF3T2yfT1O\n",
            "To: /content/covid.test.csv\n",
            "100% 651k/651k [00:00<00:00, 10.3MB/s]\n"
          ],
          "name": "stdout"
        }
      ]
    },
    {
      "cell_type": "markdown",
      "metadata": {
        "id": "wS_4-77xHk44"
      },
      "source": [
        "# **Import Some Packages**"
      ]
    },
    {
      "cell_type": "code",
      "metadata": {
        "id": "k-onQd4JNA5H"
      },
      "source": [
        "# PyTorch\n",
        "import torch\n",
        "import torch.nn as nn\n",
        "from torch.utils.data import Dataset, DataLoader\n",
        "\n",
        "# For data preprocess\n",
        "import numpy as np\n",
        "import csv\n",
        "import os\n",
        "\n",
        "# For plotting\n",
        "import matplotlib.pyplot as plt\n",
        "from matplotlib.pyplot import figure\n",
        "\n",
        "\n",
        "myseed = 42069  # set a random seed for reproducibility\n",
        "torch.backends.cudnn.deterministic = True\n",
        "torch.backends.cudnn.benchmark = False\n",
        "np.random.seed(myseed)\n",
        "torch.manual_seed(myseed)\n",
        "if torch.cuda.is_available():\n",
        "    torch.cuda.manual_seed_all(myseed)"
      ],
      "execution_count": null,
      "outputs": []
    },
    {
      "cell_type": "markdown",
      "metadata": {
        "id": "BtE3b6JEH7rw"
      },
      "source": [
        "# **Some Utilities**\n",
        "\n",
        "You do not need to modify this part."
      ]
    },
    {
      "cell_type": "code",
      "metadata": {
        "id": "FWMT3uf1NGQp"
      },
      "source": [
        "def get_device():\n",
        "    ''' Get device (if GPU is available, use GPU) '''\n",
        "    return 'cuda' if torch.cuda.is_available() else 'cpu'\n",
        "\n",
        "def plot_learning_curve(loss_record, title=''):\n",
        "    ''' Plot learning curve of your DNN (train & dev loss) '''\n",
        "    total_steps = len(loss_record['train'])\n",
        "    x_1 = range(total_steps)\n",
        "    x_2 = x_1[::len(loss_record['train']) // len(loss_record['dev'])]\n",
        "    figure(figsize=(6, 4))\n",
        "    plt.plot(x_1, loss_record['train'], c='tab:red', label='train')\n",
        "    plt.plot(x_2, loss_record['dev'], c='tab:cyan', label='dev')\n",
        "    plt.ylim(0.0, 5.)\n",
        "    plt.xlabel('Training steps')\n",
        "    plt.ylabel('MSE loss')\n",
        "    plt.title('Learning curve of {}'.format(title))\n",
        "    plt.legend()\n",
        "    plt.show()\n",
        "\n",
        "\n",
        "def plot_pred(dv_set, model, device, lim=35., preds=None, targets=None):\n",
        "    ''' Plot prediction of your DNN '''\n",
        "    if preds is None or targets is None:\n",
        "        model.eval()\n",
        "        preds, targets = [], []\n",
        "        for x, y in dv_set:\n",
        "            x, y = x.to(device), y.to(device)\n",
        "            with torch.no_grad():\n",
        "                pred = model(x)\n",
        "                preds.append(pred.detach().cpu())\n",
        "                targets.append(y.detach().cpu())\n",
        "        preds = torch.cat(preds, dim=0).numpy()\n",
        "        targets = torch.cat(targets, dim=0).numpy()\n",
        "\n",
        "    figure(figsize=(5, 5))\n",
        "    plt.scatter(targets, preds, c='r', alpha=0.5)\n",
        "    plt.plot([-0.2, lim], [-0.2, lim], c='b')\n",
        "    plt.xlim(-0.2, lim)\n",
        "    plt.ylim(-0.2, lim)\n",
        "    plt.xlabel('ground truth value')\n",
        "    plt.ylabel('predicted value')\n",
        "    plt.title('Ground Truth v.s. Prediction')\n",
        "    plt.show()"
      ],
      "execution_count": null,
      "outputs": []
    },
    {
      "cell_type": "markdown",
      "metadata": {
        "id": "39U_XFX6KOoj"
      },
      "source": [
        "# **Preprocess**\n",
        "\n",
        "We have three kinds of datasets:\n",
        "* `train`: for training\n",
        "* `dev`: for validation\n",
        "* `test`: for testing (w/o target value)"
      ]
    },
    {
      "cell_type": "markdown",
      "metadata": {
        "id": "TQ-MdwpLL7Dt"
      },
      "source": [
        "## **Dataset**\n",
        "\n",
        "The `COVID19Dataset` below does:\n",
        "* read `.csv` files\n",
        "* extract features\n",
        "* split `covid.train.csv` into train/dev sets\n",
        "* normalize features\n",
        "\n",
        "Finishing `TODO` below might make you pass medium baseline."
      ]
    },
    {
      "cell_type": "code",
      "metadata": {
        "id": "0zlpIp9ANJRU"
      },
      "source": [
        "# Feature selection package\n",
        "from sklearn.feature_selection import RFE\n",
        "from sklearn.svm import SVR\n",
        "from sklearn.linear_model import LinearRegression\n",
        "from sklearn.feature_selection import SelectKBest, f_regression\n",
        "\n",
        "class COVID19Dataset(Dataset):\n",
        "    ''' Dataset for loading and preprocessing the COVID19 dataset '''\n",
        "    def __init__(self,\n",
        "                 path,\n",
        "                 mode='train',\n",
        "                 target_only=False):\n",
        "        self.mode = mode\n",
        "\n",
        "        # Read data into numpy arrays\n",
        "        with open(path, 'r') as fp:\n",
        "            data = list(csv.reader(fp))\n",
        "            data = np.array(data[1:])[:, 1:].astype(float)\n",
        "        \n",
        "        if not target_only:\n",
        "            feats = list(range(93))\n",
        "        else:\n",
        "            # TODO: Using 40 states & 2 tested_positive features (indices = 57 & 75)\n",
        "            # feats = list(range(40)) + [57,75]\n",
        "\n",
        "            # feature selection: RFE\n",
        "            # estimator = SVR(kernel=\"linear\")\n",
        "            # estimator = LinearRegression()\n",
        "            # num = 6\n",
        "            # selector = RFE(estimator, n_features_to_select= num)\n",
        "            # X,y = data[:,40:-1], data[:,-1]\n",
        "            # selected = selector.fit(X,y)\n",
        "            # print(len(selected.ranking_))\n",
        "            # feats = []\n",
        "            # for i,v in enumerate(selected.ranking_):\n",
        "            #   if v == 1:\n",
        "            #     feats.append(40+i)\n",
        "            # SVR, num = 6\n",
        "            # feats = [1, 57, 58, 59, 75, 76, 77]\n",
        "            \n",
        "            # linear regression(), num = 14\n",
        "            # feats = list(range(40))+[40, 41, 52, 53, 58, 59, 69, 70, 71, 75, 76, 77, 78, 87]\n",
        "\n",
        "            # feature selection: SelectKbest\n",
        "            # selector = SelectKBest(f_regression, k=14)\n",
        "            # X,y = data[:,40:-1], data[:,-1]\n",
        "            # selected = selector.fit(X, y)\n",
        "            # print(len(selected.get_support()))\n",
        "            # print(selected.get_support())\n",
        "            # feats = []\n",
        "            # for i,v in enumerate(selected.get_support()):\n",
        "            #   if v == True:\n",
        "            #     feats.append(40+i)\n",
        "            feats = list(range(40))+[40, 41, 42, 43, 57, 58, 59, 60, 61, 75, 76, 77, 78, 79]\n",
        "\n",
        "            print(feats)\n",
        "            pass\n",
        "\n",
        "        if mode == 'test':\n",
        "            # Testing data\n",
        "            # data: 893 x 93 (40 states + day 1 (18) + day 2 (18) + day 3 (17))\n",
        "            data = data[:, feats]\n",
        "            self.data = torch.FloatTensor(data)\n",
        "        else:\n",
        "            # Training data (train/dev sets)\n",
        "            # data: 2700 x 94 (40 states + day 1 (18) + day 2 (18) + day 3 (18))\n",
        "            target = data[:, -1]\n",
        "            data = data[:, feats]\n",
        "            \n",
        "            # Splitting training data into train & dev sets\n",
        "            if mode == 'train':\n",
        "                indices = [i for i in range(len(data)) if i % 10 != 0]\n",
        "            elif mode == 'dev':\n",
        "                indices = [i for i in range(len(data)) if i % 10 == 0]\n",
        "            \n",
        "            # Convert data into PyTorch tensors\n",
        "            self.data = torch.FloatTensor(data[indices])\n",
        "            self.target = torch.FloatTensor(target[indices])\n",
        "\n",
        "        # Normalize features (you may remove this part to see what will happen)\n",
        "        # self.data[:, 40:] = \\\n",
        "        #     (self.data[:, 40:] - self.data[:, 40:].mean(dim=0, keepdim=True)) \\\n",
        "        #     / self.data[:, 40:].std(dim=0, keepdim=True)\n",
        "\n",
        "        self.dim = self.data.shape[1]\n",
        "\n",
        "        print('Finished reading the {} set of COVID19 Dataset ({} samples found, each dim = {})'\n",
        "              .format(mode, len(self.data), self.dim))\n",
        "\n",
        "    def __getitem__(self, index):\n",
        "        # Returns one sample at a time\n",
        "        if self.mode in ['train', 'dev']:\n",
        "            # For training\n",
        "            return self.data[index], self.target[index]\n",
        "        else:\n",
        "            # For testing (no target)\n",
        "            return self.data[index]\n",
        "\n",
        "    def __len__(self):\n",
        "        # Returns the size of the dataset\n",
        "        return len(self.data)"
      ],
      "execution_count": null,
      "outputs": []
    },
    {
      "cell_type": "markdown",
      "metadata": {
        "id": "AlhTlkE7MDo3"
      },
      "source": [
        "## **DataLoader**\n",
        "\n",
        "A `DataLoader` loads data from a given `Dataset` into batches.\n"
      ]
    },
    {
      "cell_type": "code",
      "metadata": {
        "id": "hlhLk5t6MBX3"
      },
      "source": [
        "def prep_dataloader(path, mode, batch_size, n_jobs=0, target_only=False):\n",
        "    ''' Generates a dataset, then is put into a dataloader. '''\n",
        "    dataset = COVID19Dataset(path, mode=mode, target_only=target_only)  # Construct dataset\n",
        "    dataloader = DataLoader(\n",
        "        dataset, batch_size,\n",
        "        shuffle=(mode == 'train'), drop_last=False,\n",
        "        num_workers=n_jobs, pin_memory=True)                            # Construct dataloader\n",
        "    return dataloader"
      ],
      "execution_count": null,
      "outputs": []
    },
    {
      "cell_type": "markdown",
      "metadata": {
        "id": "SGuycwR0MeQB"
      },
      "source": [
        "# **Deep Neural Network**\n",
        "\n",
        "`NeuralNet` is an `nn.Module` designed for regression.\n",
        "The DNN consists of 2 fully-connected layers with ReLU activation.\n",
        "This module also included a function `cal_loss` for calculating loss.\n"
      ]
    },
    {
      "cell_type": "code",
      "metadata": {
        "id": "49-uXYovOAI0"
      },
      "source": [
        "class NeuralNet(nn.Module):\n",
        "    ''' A simple fully-connected deep neural network '''\n",
        "    def __init__(self, input_dim):\n",
        "        super(NeuralNet, self).__init__()\n",
        "        # Define your neural network here\n",
        "        # TODO: How to modify this model to achieve better performance?\n",
        "        \n",
        "        #model1架構: dim = 64\n",
        "        # self.net = nn.Sequential(\n",
        "        #     nn.Linear(input_dim, 64),\n",
        "        #     nn.ReLU(),\n",
        "        #     nn.Linear(64, 1)\n",
        "        # )\n",
        "\n",
        "\n",
        "        #model2架構: dim = 14\n",
        "        self.net = nn.Sequential(\n",
        "            nn.Linear(input_dim, 14),\n",
        "            nn.ReLU(),\n",
        "            nn.Linear(14, 1)\n",
        "        )\n",
        "\n",
        "\n",
        "        # Mean squared error loss\n",
        "        self.criterion = nn.MSELoss(reduction='mean')\n",
        "        \n",
        "\n",
        "    def forward(self, x):\n",
        "        ''' Given input of size (batch_size x input_dim), compute output of the network '''\n",
        "        return self.net(x).squeeze(1)\n",
        "\n",
        "    def cal_loss(self, pred, target):\n",
        "        ''' Calculate loss '''\n",
        "        # TODO: you may implement L2 regularization here\n",
        "\n",
        "        loss = self.criterion(pred, target)\n",
        "\n",
        "        # RMSE        \n",
        "        # loss = torch.sqrt(self.criterion(pred, target))\n",
        "\n",
        "        return loss"
      ],
      "execution_count": null,
      "outputs": []
    },
    {
      "cell_type": "markdown",
      "metadata": {
        "id": "DvFWVjZ5Nvga"
      },
      "source": [
        "# **Train/Dev/Test**"
      ]
    },
    {
      "cell_type": "markdown",
      "metadata": {
        "id": "MAM8QecJOyqn"
      },
      "source": [
        "## **Training**"
      ]
    },
    {
      "cell_type": "code",
      "metadata": {
        "id": "lOqcmYzMO7jB"
      },
      "source": [
        "def train(tr_set, dv_set, model, config, device):\n",
        "    ''' DNN training '''\n",
        "\n",
        "    n_epochs = config['n_epochs']  # Maximum number of epochs\n",
        "\n",
        "    # Setup optimizer\n",
        "    optimizer = getattr(torch.optim, config['optimizer'])(\n",
        "        model.parameters(), **config['optim_hparas'])\n",
        "\n",
        "    min_mse = 1000.\n",
        "    loss_record = {'train': [], 'dev': []}      # for recording training loss\n",
        "    early_stop_cnt = 0\n",
        "    epoch = 0\n",
        "    while epoch < n_epochs:\n",
        "        model.train()                           # set model to training mode\n",
        "        for x, y in tr_set:                     # iterate through the dataloader\n",
        "            optimizer.zero_grad()               # set gradient to zero\n",
        "            x, y = x.to(device), y.to(device)   # move data to device (cpu/cuda)\n",
        "            pred = model(x)                     # forward pass (compute output)\n",
        "            mse_loss = model.cal_loss(pred, y)  # compute loss\n",
        "            mse_loss.backward()                 # compute gradient (backpropagation)\n",
        "            optimizer.step()                    # update model with optimizer\n",
        "            loss_record['train'].append(mse_loss.detach().cpu().item())\n",
        "\n",
        "        # After each epoch, test your model on the validation (development) set.\n",
        "        dev_mse = dev(dv_set, model, device)\n",
        "        if dev_mse < min_mse:\n",
        "            # Save model if your model improved\n",
        "            min_mse = dev_mse\n",
        "            print('Saving model (epoch = {:4d}, loss = {:.4f})'\n",
        "                .format(epoch + 1, min_mse))\n",
        "            torch.save(model.state_dict(), config['save_path'])  # Save model to specified path\n",
        "            early_stop_cnt = 0\n",
        "        else:\n",
        "            early_stop_cnt += 1\n",
        "\n",
        "        epoch += 1\n",
        "        loss_record['dev'].append(dev_mse)\n",
        "        if early_stop_cnt > config['early_stop']:\n",
        "            # Stop training if your model stops improving for \"config['early_stop']\" epochs.\n",
        "            break\n",
        "\n",
        "    print('Finished training after {} epochs'.format(epoch))\n",
        "    return min_mse, loss_record"
      ],
      "execution_count": null,
      "outputs": []
    },
    {
      "cell_type": "markdown",
      "metadata": {
        "id": "0hSd4Bn3O2PL"
      },
      "source": [
        "## **Validation**"
      ]
    },
    {
      "cell_type": "code",
      "metadata": {
        "id": "yrxrD3YsN3U2"
      },
      "source": [
        "def dev(dv_set, model, device):\n",
        "    model.eval()                                # set model to evalutation mode\n",
        "    total_loss = 0\n",
        "    for x, y in dv_set:                         # iterate through the dataloader\n",
        "        x, y = x.to(device), y.to(device)       # move data to device (cpu/cuda)\n",
        "        with torch.no_grad():                   # disable gradient calculation\n",
        "            pred = model(x)                     # forward pass (compute output)\n",
        "            mse_loss = model.cal_loss(pred, y)  # compute loss\n",
        "        total_loss += mse_loss.detach().cpu().item() * len(x)  # accumulate loss\n",
        "    total_loss = total_loss / len(dv_set.dataset)              # compute averaged loss\n",
        "\n",
        "    return total_loss"
      ],
      "execution_count": null,
      "outputs": []
    },
    {
      "cell_type": "markdown",
      "metadata": {
        "id": "g0pdrhQAO41L"
      },
      "source": [
        "## **Testing**"
      ]
    },
    {
      "cell_type": "code",
      "metadata": {
        "id": "aSBMRFlYN5tB"
      },
      "source": [
        "def test(tt_set, model, device):\n",
        "    model.eval()                                # set model to evalutation mode\n",
        "    preds = []\n",
        "    for x in tt_set:                            # iterate through the dataloader\n",
        "        x = x.to(device)                        # move data to device (cpu/cuda)\n",
        "        with torch.no_grad():                   # disable gradient calculation\n",
        "            pred = model(x)                     # forward pass (compute output)\n",
        "            preds.append(pred.detach().cpu())   # collect prediction\n",
        "    preds = torch.cat(preds, dim=0).numpy()     # concatenate all predictions and convert to a numpy array\n",
        "    return preds"
      ],
      "execution_count": null,
      "outputs": []
    },
    {
      "cell_type": "markdown",
      "metadata": {
        "id": "SvckkF5dvf0j"
      },
      "source": [
        "# **Setup Hyper-parameters**\n",
        "\n",
        "`config` contains hyper-parameters for training and the path to save your model."
      ]
    },
    {
      "cell_type": "code",
      "metadata": {
        "id": "NPXpdumwPjE7"
      },
      "source": [
        "device = get_device()                 # get the current available device ('cpu' or 'cuda')\n",
        "os.makedirs('models', exist_ok=True)  # The trained model will be saved to ./models/\n",
        "target_only = True                   # TODO: Using 40 states & 2 tested_positive features\n",
        "\n",
        "#TODO: How to tune these hyper-parameters to improve your model's performance?\n",
        "\n",
        "# strong baseline: 0.88017\n",
        "# feats = [1,57,58,59,75,76,77], dim=64\n",
        "# lr:0.005, weight_decay: 0.01 --> valid:0.8259, test:0.88973\n",
        "# lr:0.005, weight_decay: 0.001 ---> valid:0.8244, test:\n",
        "# lr:0.005, weight_decay: 0.0015 ---> valid:0.8263, test:\n",
        "# lr:0.005, weight_decay: 0.005 ---> valid:0.8249, test:\n",
        "# lr:0.001, weight_decay: 0.001 ---> valid:0.8230, test:0.88868                 select for private\n",
        "# lr:0.001, weight_decay: 0.0015 ---> valid:0.8213, test:0.88904\n",
        "# lr:0.001, weight_decay: 0.002 ---> valid:0.8207, test:0.89043\n",
        "# lr:0.001, weight_decay: 0.005 ---> valid:0.8331, test:0.89043\n",
        "# lr:0.0005, weight_decay: 0.001 ---> valid:0.8246, test:0.88661\n",
        "# lr:0.0007, weight_decay: 0.001 ---> valid:0.8246, test:0.88948\n",
        "\n",
        "# feats = list(range(40))+[40,41,52,53,58,59,63,69,70,71,75,77,81,87], dim=64\n",
        "# lr:0.001, weight_decay: 0.001 ---> valid:0.8083, test:0.944\n",
        "\n",
        "#feats = list(range(40))+[40,41,42,43,57,58,59,60,61,75,76,77,78,79], dim=14\n",
        "# lr:0.001, weight_decay: 0.001 ---> valid:0.8142, test:0.88442                 select for private\n",
        "# lr:0.001501, weight_decay: 0.001 ---> valid:0.8151, test:0.88455\n",
        "\n",
        "\n",
        "# optimizer: SGD\n",
        "# config = {\n",
        "#       'n_epochs': 3000,                # maximum number of epochs\n",
        "#       'batch_size': 270,               # mini-batch size for dataloader\n",
        "#       'optimizer': 'SGD',              # optimization algorithm (optimizer in torch.optim)\n",
        "#       'optim_hparas': {                # hyper-parameters for the optimizer (depends on which optimizer you are using)\n",
        "#           'lr': 0.01,                  # learning rate of SGD\n",
        "#           'momentum': 0.9,             # momentum for SGD\n",
        "#           'weight_decay': 0.01         # weight decays for SGD\n",
        "#       },\n",
        "#       'early_stop': 200,               # early stopping epochs (the number epochs since your model's last improvement)\n",
        "#       'save_path': 'models/model.pth'  # your model will be saved here\n",
        "# }\n",
        "\n",
        "#optimizer: Adam \n",
        "config = {\n",
        "      'n_epochs': 3000,                # maximum number of epochs\n",
        "      'batch_size': 270,               # mini-batch size for dataloader\n",
        "      'optimizer': 'Adam',             # optimization algorithm (optimizer in torch.optim)\n",
        "      'optim_hparas': {                # hyper-parameters for the optimizer (depends on which optimizer you are using)\n",
        "          'lr': 0.0015,                 # learning rate of Adam\n",
        "          'betas': (0.9, 0.999),        \n",
        "          'weight_decay': 0.001        # weight decays for Adam\n",
        "      },\n",
        "      'early_stop': 200,               # early stopping epochs (the number epochs since your model's last improvement)\n",
        "      'save_path': 'models/model.pth'  # your model will be saved here\n",
        "}"
      ],
      "execution_count": null,
      "outputs": []
    },
    {
      "cell_type": "markdown",
      "metadata": {
        "id": "6j1eOV3TOH-j"
      },
      "source": [
        "# **Load data and model**"
      ]
    },
    {
      "cell_type": "code",
      "metadata": {
        "colab": {
          "base_uri": "https://localhost:8080/"
        },
        "id": "eNrYBMmePLKm",
        "outputId": "97cb776d-351a-45cb-edc8-b27ce74c9e8c"
      },
      "source": [
        "tr_set = prep_dataloader(tr_path, 'train', config['batch_size'], target_only=target_only)\n",
        "dv_set = prep_dataloader(tr_path, 'dev', config['batch_size'], target_only=target_only)\n",
        "tt_set = prep_dataloader(tt_path, 'test', config['batch_size'], target_only=target_only)"
      ],
      "execution_count": null,
      "outputs": [
        {
          "output_type": "stream",
          "text": [
            "[0, 1, 2, 3, 4, 5, 6, 7, 8, 9, 10, 11, 12, 13, 14, 15, 16, 17, 18, 19, 20, 21, 22, 23, 24, 25, 26, 27, 28, 29, 30, 31, 32, 33, 34, 35, 36, 37, 38, 39, 40, 41, 42, 43, 57, 58, 59, 60, 61, 75, 76, 77, 78, 79]\n",
            "Finished reading the train set of COVID19 Dataset (2430 samples found, each dim = 54)\n",
            "[0, 1, 2, 3, 4, 5, 6, 7, 8, 9, 10, 11, 12, 13, 14, 15, 16, 17, 18, 19, 20, 21, 22, 23, 24, 25, 26, 27, 28, 29, 30, 31, 32, 33, 34, 35, 36, 37, 38, 39, 40, 41, 42, 43, 57, 58, 59, 60, 61, 75, 76, 77, 78, 79]\n",
            "Finished reading the dev set of COVID19 Dataset (270 samples found, each dim = 54)\n",
            "[0, 1, 2, 3, 4, 5, 6, 7, 8, 9, 10, 11, 12, 13, 14, 15, 16, 17, 18, 19, 20, 21, 22, 23, 24, 25, 26, 27, 28, 29, 30, 31, 32, 33, 34, 35, 36, 37, 38, 39, 40, 41, 42, 43, 57, 58, 59, 60, 61, 75, 76, 77, 78, 79]\n",
            "Finished reading the test set of COVID19 Dataset (893 samples found, each dim = 54)\n"
          ],
          "name": "stdout"
        }
      ]
    },
    {
      "cell_type": "code",
      "metadata": {
        "id": "FHylSirLP9oh"
      },
      "source": [
        "model = NeuralNet(tr_set.dataset.dim).to(device)  # Construct model and move to device"
      ],
      "execution_count": null,
      "outputs": []
    },
    {
      "cell_type": "markdown",
      "metadata": {
        "id": "sX2B_zgSOPTJ"
      },
      "source": [
        "# **Start Training!**"
      ]
    },
    {
      "cell_type": "code",
      "metadata": {
        "colab": {
          "base_uri": "https://localhost:8080/"
        },
        "id": "5d1Q6MHHOGho",
        "outputId": "491b82b4-ca41-4545-9f08-66ab7f027199"
      },
      "source": [
        "model_loss, model_loss_record = train(tr_set, dv_set, model, config, device)"
      ],
      "execution_count": null,
      "outputs": [
        {
          "output_type": "stream",
          "text": [
            "Saving model (epoch =    1, loss = 133.1341)\n",
            "Saving model (epoch =    2, loss = 69.8543)\n",
            "Saving model (epoch =    3, loss = 36.3624)\n",
            "Saving model (epoch =    4, loss = 17.7170)\n",
            "Saving model (epoch =    5, loss = 11.3767)\n",
            "Saving model (epoch =    6, loss = 11.0491)\n",
            "Saving model (epoch =    8, loss = 10.9570)\n",
            "Saving model (epoch =    9, loss = 10.6244)\n",
            "Saving model (epoch =   10, loss = 10.4723)\n",
            "Saving model (epoch =   11, loss = 10.3725)\n",
            "Saving model (epoch =   12, loss = 10.2673)\n",
            "Saving model (epoch =   13, loss = 10.1596)\n",
            "Saving model (epoch =   14, loss = 10.0535)\n",
            "Saving model (epoch =   15, loss = 9.9465)\n",
            "Saving model (epoch =   16, loss = 9.8307)\n",
            "Saving model (epoch =   17, loss = 9.6859)\n",
            "Saving model (epoch =   18, loss = 9.4599)\n",
            "Saving model (epoch =   19, loss = 9.1253)\n",
            "Saving model (epoch =   20, loss = 8.6750)\n",
            "Saving model (epoch =   21, loss = 8.1837)\n",
            "Saving model (epoch =   22, loss = 7.6043)\n",
            "Saving model (epoch =   23, loss = 6.8099)\n",
            "Saving model (epoch =   24, loss = 5.8639)\n",
            "Saving model (epoch =   25, loss = 4.9159)\n",
            "Saving model (epoch =   26, loss = 4.1843)\n",
            "Saving model (epoch =   27, loss = 3.2788)\n",
            "Saving model (epoch =   28, loss = 2.6820)\n",
            "Saving model (epoch =   29, loss = 2.1832)\n",
            "Saving model (epoch =   30, loss = 1.8200)\n",
            "Saving model (epoch =   31, loss = 1.5865)\n",
            "Saving model (epoch =   32, loss = 1.4646)\n",
            "Saving model (epoch =   33, loss = 1.3989)\n",
            "Saving model (epoch =   34, loss = 1.3705)\n",
            "Saving model (epoch =   35, loss = 1.3199)\n",
            "Saving model (epoch =   36, loss = 1.3077)\n",
            "Saving model (epoch =   37, loss = 1.3029)\n",
            "Saving model (epoch =   42, loss = 1.2973)\n",
            "Saving model (epoch =   43, loss = 1.2711)\n",
            "Saving model (epoch =   44, loss = 1.2666)\n",
            "Saving model (epoch =   49, loss = 1.2629)\n",
            "Saving model (epoch =   50, loss = 1.2435)\n",
            "Saving model (epoch =   55, loss = 1.2264)\n",
            "Saving model (epoch =   56, loss = 1.2190)\n",
            "Saving model (epoch =   58, loss = 1.2143)\n",
            "Saving model (epoch =   59, loss = 1.2070)\n",
            "Saving model (epoch =   60, loss = 1.2063)\n",
            "Saving model (epoch =   62, loss = 1.1939)\n",
            "Saving model (epoch =   63, loss = 1.1939)\n",
            "Saving model (epoch =   64, loss = 1.1938)\n",
            "Saving model (epoch =   66, loss = 1.1922)\n",
            "Saving model (epoch =   67, loss = 1.1701)\n",
            "Saving model (epoch =   68, loss = 1.1672)\n",
            "Saving model (epoch =   69, loss = 1.1607)\n",
            "Saving model (epoch =   70, loss = 1.1587)\n",
            "Saving model (epoch =   75, loss = 1.1528)\n",
            "Saving model (epoch =   76, loss = 1.1295)\n",
            "Saving model (epoch =   81, loss = 1.1089)\n",
            "Saving model (epoch =   83, loss = 1.1066)\n",
            "Saving model (epoch =   84, loss = 1.1005)\n",
            "Saving model (epoch =   90, loss = 1.0815)\n",
            "Saving model (epoch =   91, loss = 1.0800)\n",
            "Saving model (epoch =   92, loss = 1.0707)\n",
            "Saving model (epoch =   97, loss = 1.0658)\n",
            "Saving model (epoch =   99, loss = 1.0512)\n",
            "Saving model (epoch =  101, loss = 1.0368)\n",
            "Saving model (epoch =  103, loss = 1.0366)\n",
            "Saving model (epoch =  105, loss = 1.0350)\n",
            "Saving model (epoch =  106, loss = 1.0220)\n",
            "Saving model (epoch =  108, loss = 1.0130)\n",
            "Saving model (epoch =  112, loss = 0.9970)\n",
            "Saving model (epoch =  116, loss = 0.9848)\n",
            "Saving model (epoch =  119, loss = 0.9773)\n",
            "Saving model (epoch =  120, loss = 0.9750)\n",
            "Saving model (epoch =  121, loss = 0.9725)\n",
            "Saving model (epoch =  124, loss = 0.9644)\n",
            "Saving model (epoch =  127, loss = 0.9552)\n",
            "Saving model (epoch =  133, loss = 0.9526)\n",
            "Saving model (epoch =  134, loss = 0.9409)\n",
            "Saving model (epoch =  139, loss = 0.9336)\n",
            "Saving model (epoch =  140, loss = 0.9311)\n",
            "Saving model (epoch =  141, loss = 0.9229)\n",
            "Saving model (epoch =  146, loss = 0.9168)\n",
            "Saving model (epoch =  148, loss = 0.9159)\n",
            "Saving model (epoch =  153, loss = 0.9068)\n",
            "Saving model (epoch =  159, loss = 0.8909)\n",
            "Saving model (epoch =  163, loss = 0.8880)\n",
            "Saving model (epoch =  165, loss = 0.8855)\n",
            "Saving model (epoch =  167, loss = 0.8827)\n",
            "Saving model (epoch =  174, loss = 0.8747)\n",
            "Saving model (epoch =  175, loss = 0.8731)\n",
            "Saving model (epoch =  178, loss = 0.8729)\n",
            "Saving model (epoch =  181, loss = 0.8668)\n",
            "Saving model (epoch =  182, loss = 0.8661)\n",
            "Saving model (epoch =  183, loss = 0.8659)\n",
            "Saving model (epoch =  185, loss = 0.8619)\n",
            "Saving model (epoch =  190, loss = 0.8594)\n",
            "Saving model (epoch =  192, loss = 0.8573)\n",
            "Saving model (epoch =  195, loss = 0.8543)\n",
            "Saving model (epoch =  197, loss = 0.8539)\n",
            "Saving model (epoch =  198, loss = 0.8524)\n",
            "Saving model (epoch =  203, loss = 0.8513)\n",
            "Saving model (epoch =  210, loss = 0.8456)\n",
            "Saving model (epoch =  214, loss = 0.8440)\n",
            "Saving model (epoch =  217, loss = 0.8420)\n",
            "Saving model (epoch =  219, loss = 0.8410)\n",
            "Saving model (epoch =  224, loss = 0.8407)\n",
            "Saving model (epoch =  232, loss = 0.8399)\n",
            "Saving model (epoch =  236, loss = 0.8363)\n",
            "Saving model (epoch =  237, loss = 0.8363)\n",
            "Saving model (epoch =  238, loss = 0.8340)\n",
            "Saving model (epoch =  248, loss = 0.8317)\n",
            "Saving model (epoch =  250, loss = 0.8306)\n",
            "Saving model (epoch =  256, loss = 0.8294)\n",
            "Saving model (epoch =  257, loss = 0.8290)\n",
            "Saving model (epoch =  261, loss = 0.8276)\n",
            "Saving model (epoch =  271, loss = 0.8262)\n",
            "Saving model (epoch =  280, loss = 0.8247)\n",
            "Saving model (epoch =  284, loss = 0.8242)\n",
            "Saving model (epoch =  285, loss = 0.8242)\n",
            "Saving model (epoch =  286, loss = 0.8239)\n",
            "Saving model (epoch =  288, loss = 0.8235)\n",
            "Saving model (epoch =  292, loss = 0.8226)\n",
            "Saving model (epoch =  310, loss = 0.8225)\n",
            "Saving model (epoch =  312, loss = 0.8213)\n",
            "Saving model (epoch =  313, loss = 0.8205)\n",
            "Saving model (epoch =  318, loss = 0.8200)\n",
            "Saving model (epoch =  322, loss = 0.8195)\n",
            "Saving model (epoch =  334, loss = 0.8191)\n",
            "Saving model (epoch =  335, loss = 0.8184)\n",
            "Saving model (epoch =  346, loss = 0.8184)\n",
            "Saving model (epoch =  348, loss = 0.8181)\n",
            "Saving model (epoch =  360, loss = 0.8173)\n",
            "Saving model (epoch =  367, loss = 0.8170)\n",
            "Saving model (epoch =  368, loss = 0.8169)\n",
            "Saving model (epoch =  371, loss = 0.8164)\n",
            "Saving model (epoch =  376, loss = 0.8162)\n",
            "Saving model (epoch =  386, loss = 0.8160)\n",
            "Saving model (epoch =  387, loss = 0.8160)\n",
            "Saving model (epoch =  397, loss = 0.8156)\n",
            "Saving model (epoch =  428, loss = 0.8153)\n",
            "Saving model (epoch =  447, loss = 0.8150)\n",
            "Saving model (epoch =  520, loss = 0.8142)\n",
            "Finished training after 721 epochs\n"
          ],
          "name": "stdout"
        }
      ]
    },
    {
      "cell_type": "code",
      "metadata": {
        "colab": {
          "base_uri": "https://localhost:8080/",
          "height": 295
        },
        "id": "hsNO9nnXQBvP",
        "outputId": "314782ee-ca72-4713-b486-ebec017819c3"
      },
      "source": [
        "plot_learning_curve(model_loss_record, title='deep model')"
      ],
      "execution_count": null,
      "outputs": [
        {
          "output_type": "display_data",
          "data": {
            "image/png": "[encoded data removed]",
            "text/plain": [
              "<Figure size 432x288 with 1 Axes>"
            ]
          },
          "metadata": {
            "tags": [],
            "needs_background": "light"
          }
        }
      ]
    },
    {
      "cell_type": "code",
      "metadata": {
        "colab": {
          "base_uri": "https://localhost:8080/",
          "height": 350
        },
        "id": "3iZTVn5WQFpX",
        "outputId": "b736d16e-2449-4d5f-92c0-df12afc6ed06"
      },
      "source": [
        "del model\n",
        "model = NeuralNet(tr_set.dataset.dim).to(device)\n",
        "ckpt = torch.load(config['save_path'], map_location='cpu')  # Load your best model\n",
        "model.load_state_dict(ckpt)\n",
        "plot_pred(dv_set, model, device)  # Show prediction on the validation set"
      ],
      "execution_count": null,
      "outputs": [
        {
          "output_type": "display_data",
          "data": {
            "image/png": "[encoded data removed]",
            "text/plain": [
              "<Figure size 360x360 with 1 Axes>"
            ]
          },
          "metadata": {
            "tags": [],
            "needs_background": "light"
          }
        }
      ]
    },
    {
      "cell_type": "markdown",
      "metadata": {
        "id": "aQikz3IPiyPf"
      },
      "source": [
        "# **Testing**\n",
        "The predictions of your model on testing set will be stored at `pred.csv`."
      ]
    },
    {
      "cell_type": "code",
      "metadata": {
        "colab": {
          "base_uri": "https://localhost:8080/"
        },
        "id": "O8cTuQjQQOon",
        "outputId": "12526cab-fc7f-47e9-f076-425a5ce5626c"
      },
      "source": [
        "def save_pred(preds, file):\n",
        "    ''' Save predictions to specified file '''\n",
        "    print('Saving results to {}'.format(file))\n",
        "    with open(file, 'w') as fp:\n",
        "        writer = csv.writer(fp)\n",
        "        writer.writerow(['id', 'tested_positive'])\n",
        "        for i, p in enumerate(preds):\n",
        "            writer.writerow([i, p])\n",
        "\n",
        "preds = test(tt_set, model, device)  # predict COVID-19 cases with your model\n",
        "save_pred(preds, 'pred.csv')         # save prediction file to pred.csv"
      ],
      "execution_count": null,
      "outputs": [
        {
          "output_type": "stream",
          "text": [
            "Saving results to pred.csv\n"
          ],
          "name": "stdout"
        }
      ]
    },
    {
      "cell_type": "markdown",
      "metadata": {
        "id": "nfrVxqJanGpE"
      },
      "source": [
        "# **Hints**\n",
        "\n",
        "## **Simple Baseline**\n",
        "* Run sample code\n",
        "\n",
        "## **Medium Baseline**\n",
        "* Feature selection: 40 states + 2 `tested_positive` (`TODO` in dataset)\n",
        "\n",
        "## **Strong Baseline**\n",
        "* Feature selection (what other features are useful?)\n",
        "* DNN architecture (layers? dimension? activation function?)\n",
        "* Training (mini-batch? optimizer? learning rate?)\n",
        "* L2 regularization (ok)\n",
        "* There are some mistakes in the sample code, can you find them?"
      ]
    },
    {
      "cell_type": "markdown",
      "metadata": {
        "id": "9tmCwXgpot3t"
      },
      "source": [
        "# **Reference**\n",
        "This code is completely written by Heng-Jui Chang @ NTUEE.  \n",
        "Copying or reusing this code is required to specify the original author. \n",
        "\n",
        "E.g.  \n",
        "Source: Heng-Jui Chang @ NTUEE (https://github.com/ga642381/ML2021-Spring/blob/main/HW01/HW01.ipynb)\n"
      ]
    }
  ]
}